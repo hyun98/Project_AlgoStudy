{
  "nbformat": 4,
  "nbformat_minor": 0,
  "metadata": {
    "colab": {
      "provenance": [],
      "gpuType": "T4",
      "mount_file_id": "1JHPpOUS7lkUXhIOTbaDp9ybbhtRXzM28",
      "authorship_tag": "ABX9TyMhTkEea22VlRy1Mbg4AOkz",
      "include_colab_link": true
    },
    "kernelspec": {
      "name": "python3",
      "display_name": "Python 3"
    },
    "language_info": {
      "name": "python"
    },
    "accelerator": "GPU"
  },
  "cells": [
    {
      "cell_type": "markdown",
      "metadata": {
        "id": "view-in-github",
        "colab_type": "text"
      },
      "source": [
        "<a href=\"https://colab.research.google.com/github/hyun98/Project_AlgoStudy/blob/master/%5BAI%EA%B2%BD%EC%A7%84%EB%8C%80%ED%9A%8C%5DCode_test.ipynb\" target=\"_parent\"><img src=\"https://colab.research.google.com/assets/colab-badge.svg\" alt=\"Open In Colab\"/></a>"
      ]
    },
    {
      "cell_type": "markdown",
      "source": [
        "# **0. 목차**\n",
        "1. 라이브러리 설치\n",
        "2. 데이터 불러오기\n",
        "3. 데이터 전처리\n"
      ],
      "metadata": {
        "id": "NQHbRI-USuuW"
      }
    },
    {
      "cell_type": "code",
      "source": [
        "from google.colab import drive\n",
        "drive.mount('/content/drive', force_remount=True)"
      ],
      "metadata": {
        "colab": {
          "base_uri": "https://localhost:8080/"
        },
        "id": "j4D3bJ2s1WN4",
        "outputId": "6bca4f3e-72bd-4108-99d2-0aeea3dcbe40"
      },
      "execution_count": 1,
      "outputs": [
        {
          "output_type": "stream",
          "name": "stdout",
          "text": [
            "Mounted at /content/drive\n"
          ]
        }
      ]
    },
    {
      "cell_type": "code",
      "source": [
        "pip install opencv-python"
      ],
      "metadata": {
        "id": "7iRId4ckmD43",
        "colab": {
          "base_uri": "https://localhost:8080/"
        },
        "outputId": "682b26e3-37ca-454a-e026-a94a566be12c"
      },
      "execution_count": null,
      "outputs": [
        {
          "output_type": "stream",
          "name": "stdout",
          "text": [
            "Requirement already satisfied: opencv-python in /usr/local/lib/python3.10/dist-packages (4.7.0.72)\n",
            "Requirement already satisfied: numpy>=1.21.2 in /usr/local/lib/python3.10/dist-packages (from opencv-python) (1.22.4)\n"
          ]
        }
      ]
    },
    {
      "cell_type": "markdown",
      "source": [
        "# **1. 라이브러리 설치**"
      ],
      "metadata": {
        "id": "nk5hqE_91X8t"
      }
    },
    {
      "cell_type": "code",
      "execution_count": null,
      "metadata": {
        "id": "6ziCE0VqSZHw"
      },
      "outputs": [],
      "source": [
        "import os\n",
        "import cv2\n",
        "import numpy as np\n",
        "import pandas as pd\n",
        "import matplotlib.pyplot as plt"
      ]
    },
    {
      "cell_type": "markdown",
      "source": [
        "# **2. 데이터 불러오기**"
      ],
      "metadata": {
        "id": "GawmJDflmVyR"
      }
    },
    {
      "cell_type": "code",
      "source": [
        "train = pd.read_csv('/content/train.csv')\n",
        "test = pd.read_csv('/content/test.csv')"
      ],
      "metadata": {
        "id": "Nnf5kAo6mh9d"
      },
      "execution_count": null,
      "outputs": []
    },
    {
      "cell_type": "markdown",
      "source": [
        "### 데이터 확인하기"
      ],
      "metadata": {
        "id": "vafUteCGB00q"
      }
    },
    {
      "cell_type": "code",
      "source": [
        "train.head(10)"
      ],
      "metadata": {
        "id": "IYkA6uOYCAH9",
        "colab": {
          "base_uri": "https://localhost:8080/",
          "height": 363
        },
        "outputId": "fe9723c3-00a8-40de-ab3f-9a27926f3069"
      },
      "execution_count": null,
      "outputs": [
        {
          "output_type": "execute_result",
          "data": {
            "text/plain": [
              "                                              img_id  \\\n",
              "0                                         TRAIN_0000   \n",
              "1                                         TRAIN_0001   \n",
              "2                                         TRAIN_0002   \n",
              "3                                         TRAIN_0003   \n",
              "4  44 23 711851 29 711982 42 712100 19 712195 41 ...   \n",
              "5                                         TRAIN_0004   \n",
              "6                                         TRAIN_0005   \n",
              "7                                         TRAIN_0006   \n",
              "8                                         TRAIN_0007   \n",
              "9                                         TRAIN_0008   \n",
              "\n",
              "                     img_path  \\\n",
              "0  ./train_img/TRAIN_0000.png   \n",
              "1  ./train_img/TRAIN_0001.png   \n",
              "2  ./train_img/TRAIN_0002.png   \n",
              "3  ./train_img/TRAIN_0003.png   \n",
              "4                         NaN   \n",
              "5  ./train_img/TRAIN_0004.png   \n",
              "6  ./train_img/TRAIN_0005.png   \n",
              "7  ./train_img/TRAIN_0006.png   \n",
              "8  ./train_img/TRAIN_0007.png   \n",
              "9  ./train_img/TRAIN_0008.png   \n",
              "\n",
              "                                            mask_rle  \n",
              "0  9576 7 10590 17 11614 17 12638 17 13662 17 146...  \n",
              "1  208402 1 209425 6 210449 10 211473 14 212497 1...  \n",
              "2  855 34 15654 9 16678 9 16742 8 17702 9 17766 9...  \n",
              "3  362 6 745 15 798 22 900 25 1385 8 1828 16 1924...  \n",
              "4                                                NaN  \n",
              "5  34 27 1058 27 2082 27 3105 27 4129 27 5153 27 ...  \n",
              "6  9958 29 10982 29 12006 29 13030 29 14054 29 15...  \n",
              "7  657408 1 658431 2 659455 2 660480 1 661504 1 6...  \n",
              "8  262 17 379 20 491 34 1286 17 1403 20 1515 34 2...  \n",
              "9  5622 33 6646 33 7670 33 8693 34 9717 34 10741 ...  "
            ],
            "text/html": [
              "\n",
              "  <div id=\"df-9783f824-1e25-44e1-87a2-0aba4db18321\">\n",
              "    <div class=\"colab-df-container\">\n",
              "      <div>\n",
              "<style scoped>\n",
              "    .dataframe tbody tr th:only-of-type {\n",
              "        vertical-align: middle;\n",
              "    }\n",
              "\n",
              "    .dataframe tbody tr th {\n",
              "        vertical-align: top;\n",
              "    }\n",
              "\n",
              "    .dataframe thead th {\n",
              "        text-align: right;\n",
              "    }\n",
              "</style>\n",
              "<table border=\"1\" class=\"dataframe\">\n",
              "  <thead>\n",
              "    <tr style=\"text-align: right;\">\n",
              "      <th></th>\n",
              "      <th>img_id</th>\n",
              "      <th>img_path</th>\n",
              "      <th>mask_rle</th>\n",
              "    </tr>\n",
              "  </thead>\n",
              "  <tbody>\n",
              "    <tr>\n",
              "      <th>0</th>\n",
              "      <td>TRAIN_0000</td>\n",
              "      <td>./train_img/TRAIN_0000.png</td>\n",
              "      <td>9576 7 10590 17 11614 17 12638 17 13662 17 146...</td>\n",
              "    </tr>\n",
              "    <tr>\n",
              "      <th>1</th>\n",
              "      <td>TRAIN_0001</td>\n",
              "      <td>./train_img/TRAIN_0001.png</td>\n",
              "      <td>208402 1 209425 6 210449 10 211473 14 212497 1...</td>\n",
              "    </tr>\n",
              "    <tr>\n",
              "      <th>2</th>\n",
              "      <td>TRAIN_0002</td>\n",
              "      <td>./train_img/TRAIN_0002.png</td>\n",
              "      <td>855 34 15654 9 16678 9 16742 8 17702 9 17766 9...</td>\n",
              "    </tr>\n",
              "    <tr>\n",
              "      <th>3</th>\n",
              "      <td>TRAIN_0003</td>\n",
              "      <td>./train_img/TRAIN_0003.png</td>\n",
              "      <td>362 6 745 15 798 22 900 25 1385 8 1828 16 1924...</td>\n",
              "    </tr>\n",
              "    <tr>\n",
              "      <th>4</th>\n",
              "      <td>44 23 711851 29 711982 42 712100 19 712195 41 ...</td>\n",
              "      <td>NaN</td>\n",
              "      <td>NaN</td>\n",
              "    </tr>\n",
              "    <tr>\n",
              "      <th>5</th>\n",
              "      <td>TRAIN_0004</td>\n",
              "      <td>./train_img/TRAIN_0004.png</td>\n",
              "      <td>34 27 1058 27 2082 27 3105 27 4129 27 5153 27 ...</td>\n",
              "    </tr>\n",
              "    <tr>\n",
              "      <th>6</th>\n",
              "      <td>TRAIN_0005</td>\n",
              "      <td>./train_img/TRAIN_0005.png</td>\n",
              "      <td>9958 29 10982 29 12006 29 13030 29 14054 29 15...</td>\n",
              "    </tr>\n",
              "    <tr>\n",
              "      <th>7</th>\n",
              "      <td>TRAIN_0006</td>\n",
              "      <td>./train_img/TRAIN_0006.png</td>\n",
              "      <td>657408 1 658431 2 659455 2 660480 1 661504 1 6...</td>\n",
              "    </tr>\n",
              "    <tr>\n",
              "      <th>8</th>\n",
              "      <td>TRAIN_0007</td>\n",
              "      <td>./train_img/TRAIN_0007.png</td>\n",
              "      <td>262 17 379 20 491 34 1286 17 1403 20 1515 34 2...</td>\n",
              "    </tr>\n",
              "    <tr>\n",
              "      <th>9</th>\n",
              "      <td>TRAIN_0008</td>\n",
              "      <td>./train_img/TRAIN_0008.png</td>\n",
              "      <td>5622 33 6646 33 7670 33 8693 34 9717 34 10741 ...</td>\n",
              "    </tr>\n",
              "  </tbody>\n",
              "</table>\n",
              "</div>\n",
              "      <button class=\"colab-df-convert\" onclick=\"convertToInteractive('df-9783f824-1e25-44e1-87a2-0aba4db18321')\"\n",
              "              title=\"Convert this dataframe to an interactive table.\"\n",
              "              style=\"display:none;\">\n",
              "        \n",
              "  <svg xmlns=\"http://www.w3.org/2000/svg\" height=\"24px\"viewBox=\"0 0 24 24\"\n",
              "       width=\"24px\">\n",
              "    <path d=\"M0 0h24v24H0V0z\" fill=\"none\"/>\n",
              "    <path d=\"M18.56 5.44l.94 2.06.94-2.06 2.06-.94-2.06-.94-.94-2.06-.94 2.06-2.06.94zm-11 1L8.5 8.5l.94-2.06 2.06-.94-2.06-.94L8.5 2.5l-.94 2.06-2.06.94zm10 10l.94 2.06.94-2.06 2.06-.94-2.06-.94-.94-2.06-.94 2.06-2.06.94z\"/><path d=\"M17.41 7.96l-1.37-1.37c-.4-.4-.92-.59-1.43-.59-.52 0-1.04.2-1.43.59L10.3 9.45l-7.72 7.72c-.78.78-.78 2.05 0 2.83L4 21.41c.39.39.9.59 1.41.59.51 0 1.02-.2 1.41-.59l7.78-7.78 2.81-2.81c.8-.78.8-2.07 0-2.86zM5.41 20L4 18.59l7.72-7.72 1.47 1.35L5.41 20z\"/>\n",
              "  </svg>\n",
              "      </button>\n",
              "      \n",
              "  <style>\n",
              "    .colab-df-container {\n",
              "      display:flex;\n",
              "      flex-wrap:wrap;\n",
              "      gap: 12px;\n",
              "    }\n",
              "\n",
              "    .colab-df-convert {\n",
              "      background-color: #E8F0FE;\n",
              "      border: none;\n",
              "      border-radius: 50%;\n",
              "      cursor: pointer;\n",
              "      display: none;\n",
              "      fill: #1967D2;\n",
              "      height: 32px;\n",
              "      padding: 0 0 0 0;\n",
              "      width: 32px;\n",
              "    }\n",
              "\n",
              "    .colab-df-convert:hover {\n",
              "      background-color: #E2EBFA;\n",
              "      box-shadow: 0px 1px 2px rgba(60, 64, 67, 0.3), 0px 1px 3px 1px rgba(60, 64, 67, 0.15);\n",
              "      fill: #174EA6;\n",
              "    }\n",
              "\n",
              "    [theme=dark] .colab-df-convert {\n",
              "      background-color: #3B4455;\n",
              "      fill: #D2E3FC;\n",
              "    }\n",
              "\n",
              "    [theme=dark] .colab-df-convert:hover {\n",
              "      background-color: #434B5C;\n",
              "      box-shadow: 0px 1px 3px 1px rgba(0, 0, 0, 0.15);\n",
              "      filter: drop-shadow(0px 1px 2px rgba(0, 0, 0, 0.3));\n",
              "      fill: #FFFFFF;\n",
              "    }\n",
              "  </style>\n",
              "\n",
              "      <script>\n",
              "        const buttonEl =\n",
              "          document.querySelector('#df-9783f824-1e25-44e1-87a2-0aba4db18321 button.colab-df-convert');\n",
              "        buttonEl.style.display =\n",
              "          google.colab.kernel.accessAllowed ? 'block' : 'none';\n",
              "\n",
              "        async function convertToInteractive(key) {\n",
              "          const element = document.querySelector('#df-9783f824-1e25-44e1-87a2-0aba4db18321');\n",
              "          const dataTable =\n",
              "            await google.colab.kernel.invokeFunction('convertToInteractive',\n",
              "                                                     [key], {});\n",
              "          if (!dataTable) return;\n",
              "\n",
              "          const docLinkHtml = 'Like what you see? Visit the ' +\n",
              "            '<a target=\"_blank\" href=https://colab.research.google.com/notebooks/data_table.ipynb>data table notebook</a>'\n",
              "            + ' to learn more about interactive tables.';\n",
              "          element.innerHTML = '';\n",
              "          dataTable['output_type'] = 'display_data';\n",
              "          await google.colab.output.renderOutput(dataTable, element);\n",
              "          const docLink = document.createElement('div');\n",
              "          docLink.innerHTML = docLinkHtml;\n",
              "          element.appendChild(docLink);\n",
              "        }\n",
              "      </script>\n",
              "    </div>\n",
              "  </div>\n",
              "  "
            ]
          },
          "metadata": {},
          "execution_count": 8
        }
      ]
    },
    {
      "cell_type": "markdown",
      "source": [
        "# **3. 데이터 전처리**\n"
      ],
      "metadata": {
        "id": "YiEUrAc780RD"
      }
    },
    {
      "cell_type": "markdown",
      "source": [
        "### **결측치, 이상치 처리**"
      ],
      "metadata": {
        "id": "RtdwtqAJtyPM"
      }
    },
    {
      "cell_type": "code",
      "source": [
        "#결측치 제거\n",
        "train.info()\n",
        "train.isnull().sum()\n",
        "train_df = train.dropna(axis = 0)\n",
        "train_df.isnull().sum()\n",
        "\n",
        "#중복값 제거\n",
        "#train_df.drop_duplicates(['mask_rle'], keep = 'first')"
      ],
      "metadata": {
        "id": "x0QK7nqt9HQO",
        "colab": {
          "base_uri": "https://localhost:8080/"
        },
        "outputId": "51f2bdec-8020-495a-b31d-e96d0e62b829"
      },
      "execution_count": null,
      "outputs": [
        {
          "output_type": "stream",
          "name": "stdout",
          "text": [
            "<class 'pandas.core.frame.DataFrame'>\n",
            "RangeIndex: 1518 entries, 0 to 1517\n",
            "Data columns (total 3 columns):\n",
            " #   Column    Non-Null Count  Dtype \n",
            "---  ------    --------------  ----- \n",
            " 0   img_id    1518 non-null   object\n",
            " 1   img_path  1228 non-null   object\n",
            " 2   mask_rle  1228 non-null   object\n",
            "dtypes: object(3)\n",
            "memory usage: 35.7+ KB\n"
          ]
        },
        {
          "output_type": "execute_result",
          "data": {
            "text/plain": [
              "img_id      0\n",
              "img_path    0\n",
              "mask_rle    0\n",
              "dtype: int64"
            ]
          },
          "metadata": {},
          "execution_count": 13
        }
      ]
    },
    {
      "cell_type": "markdown",
      "source": [
        "### **중복값 제거**"
      ],
      "metadata": {
        "id": "YEA-nADWtgTU"
      }
    },
    {
      "cell_type": "code",
      "source": [],
      "metadata": {
        "id": "ZGndgTpKtkiz"
      },
      "execution_count": null,
      "outputs": []
    },
    {
      "cell_type": "code",
      "source": [],
      "metadata": {
        "colab": {
          "base_uri": "https://localhost:8080/",
          "height": 423
        },
        "id": "YYoIm6ndO_Pj",
        "outputId": "514a6a47-bdf6-4d7d-8b30-3bcfbd517cbf"
      },
      "execution_count": null,
      "outputs": [
        {
          "output_type": "execute_result",
          "data": {
            "text/plain": [
              "          img_id                    img_path  \\\n",
              "0     TRAIN_0000  ./train_img/TRAIN_0000.png   \n",
              "1     TRAIN_0001  ./train_img/TRAIN_0001.png   \n",
              "2     TRAIN_0002  ./train_img/TRAIN_0002.png   \n",
              "3     TRAIN_0003  ./train_img/TRAIN_0003.png   \n",
              "5     TRAIN_0004  ./train_img/TRAIN_0004.png   \n",
              "...          ...                         ...   \n",
              "6908  TRAIN_5568  ./train_img/TRAIN_5568.png   \n",
              "6909  TRAIN_5569  ./train_img/TRAIN_5569.png   \n",
              "6910  TRAIN_5570  ./train_img/TRAIN_5570.png   \n",
              "6911  TRAIN_5571  ./train_img/TRAIN_5571.png   \n",
              "6912  TRAIN_5572  ./train_img/TRAIN_5572.png   \n",
              "\n",
              "                                               mask_rle  \n",
              "0     9576 7 10590 17 11614 17 12638 17 13662 17 146...  \n",
              "1     208402 1 209425 6 210449 10 211473 14 212497 1...  \n",
              "2     855 34 15654 9 16678 9 16742 8 17702 9 17766 9...  \n",
              "3     362 6 745 15 798 22 900 25 1385 8 1828 16 1924...  \n",
              "5     34 27 1058 27 2082 27 3105 27 4129 27 5153 27 ...  \n",
              "...                                                 ...  \n",
              "6908  53680 4 54668 41 55688 45 56712 45 57736 45 58...  \n",
              "6909  726 15 1750 15 2774 15 3798 16 4560 8 4822 29 ...  \n",
              "6910  16464 9 17488 9 18512 9 19536 9 20560 9 21584 ...  \n",
              "6911  147 13 1171 13 2195 13 3219 13 4243 13 5267 13...  \n",
              "6912  259 17 435 14 474 13 744 9 981 4 1282 18 1459 ...  \n",
              "\n",
              "[5573 rows x 3 columns]"
            ],
            "text/html": [
              "\n",
              "  <div id=\"df-1d75b1fa-c43b-4d61-a05c-281d860ccef3\">\n",
              "    <div class=\"colab-df-container\">\n",
              "      <div>\n",
              "<style scoped>\n",
              "    .dataframe tbody tr th:only-of-type {\n",
              "        vertical-align: middle;\n",
              "    }\n",
              "\n",
              "    .dataframe tbody tr th {\n",
              "        vertical-align: top;\n",
              "    }\n",
              "\n",
              "    .dataframe thead th {\n",
              "        text-align: right;\n",
              "    }\n",
              "</style>\n",
              "<table border=\"1\" class=\"dataframe\">\n",
              "  <thead>\n",
              "    <tr style=\"text-align: right;\">\n",
              "      <th></th>\n",
              "      <th>img_id</th>\n",
              "      <th>img_path</th>\n",
              "      <th>mask_rle</th>\n",
              "    </tr>\n",
              "  </thead>\n",
              "  <tbody>\n",
              "    <tr>\n",
              "      <th>0</th>\n",
              "      <td>TRAIN_0000</td>\n",
              "      <td>./train_img/TRAIN_0000.png</td>\n",
              "      <td>9576 7 10590 17 11614 17 12638 17 13662 17 146...</td>\n",
              "    </tr>\n",
              "    <tr>\n",
              "      <th>1</th>\n",
              "      <td>TRAIN_0001</td>\n",
              "      <td>./train_img/TRAIN_0001.png</td>\n",
              "      <td>208402 1 209425 6 210449 10 211473 14 212497 1...</td>\n",
              "    </tr>\n",
              "    <tr>\n",
              "      <th>2</th>\n",
              "      <td>TRAIN_0002</td>\n",
              "      <td>./train_img/TRAIN_0002.png</td>\n",
              "      <td>855 34 15654 9 16678 9 16742 8 17702 9 17766 9...</td>\n",
              "    </tr>\n",
              "    <tr>\n",
              "      <th>3</th>\n",
              "      <td>TRAIN_0003</td>\n",
              "      <td>./train_img/TRAIN_0003.png</td>\n",
              "      <td>362 6 745 15 798 22 900 25 1385 8 1828 16 1924...</td>\n",
              "    </tr>\n",
              "    <tr>\n",
              "      <th>5</th>\n",
              "      <td>TRAIN_0004</td>\n",
              "      <td>./train_img/TRAIN_0004.png</td>\n",
              "      <td>34 27 1058 27 2082 27 3105 27 4129 27 5153 27 ...</td>\n",
              "    </tr>\n",
              "    <tr>\n",
              "      <th>...</th>\n",
              "      <td>...</td>\n",
              "      <td>...</td>\n",
              "      <td>...</td>\n",
              "    </tr>\n",
              "    <tr>\n",
              "      <th>6908</th>\n",
              "      <td>TRAIN_5568</td>\n",
              "      <td>./train_img/TRAIN_5568.png</td>\n",
              "      <td>53680 4 54668 41 55688 45 56712 45 57736 45 58...</td>\n",
              "    </tr>\n",
              "    <tr>\n",
              "      <th>6909</th>\n",
              "      <td>TRAIN_5569</td>\n",
              "      <td>./train_img/TRAIN_5569.png</td>\n",
              "      <td>726 15 1750 15 2774 15 3798 16 4560 8 4822 29 ...</td>\n",
              "    </tr>\n",
              "    <tr>\n",
              "      <th>6910</th>\n",
              "      <td>TRAIN_5570</td>\n",
              "      <td>./train_img/TRAIN_5570.png</td>\n",
              "      <td>16464 9 17488 9 18512 9 19536 9 20560 9 21584 ...</td>\n",
              "    </tr>\n",
              "    <tr>\n",
              "      <th>6911</th>\n",
              "      <td>TRAIN_5571</td>\n",
              "      <td>./train_img/TRAIN_5571.png</td>\n",
              "      <td>147 13 1171 13 2195 13 3219 13 4243 13 5267 13...</td>\n",
              "    </tr>\n",
              "    <tr>\n",
              "      <th>6912</th>\n",
              "      <td>TRAIN_5572</td>\n",
              "      <td>./train_img/TRAIN_5572.png</td>\n",
              "      <td>259 17 435 14 474 13 744 9 981 4 1282 18 1459 ...</td>\n",
              "    </tr>\n",
              "  </tbody>\n",
              "</table>\n",
              "<p>5573 rows × 3 columns</p>\n",
              "</div>\n",
              "      <button class=\"colab-df-convert\" onclick=\"convertToInteractive('df-1d75b1fa-c43b-4d61-a05c-281d860ccef3')\"\n",
              "              title=\"Convert this dataframe to an interactive table.\"\n",
              "              style=\"display:none;\">\n",
              "        \n",
              "  <svg xmlns=\"http://www.w3.org/2000/svg\" height=\"24px\"viewBox=\"0 0 24 24\"\n",
              "       width=\"24px\">\n",
              "    <path d=\"M0 0h24v24H0V0z\" fill=\"none\"/>\n",
              "    <path d=\"M18.56 5.44l.94 2.06.94-2.06 2.06-.94-2.06-.94-.94-2.06-.94 2.06-2.06.94zm-11 1L8.5 8.5l.94-2.06 2.06-.94-2.06-.94L8.5 2.5l-.94 2.06-2.06.94zm10 10l.94 2.06.94-2.06 2.06-.94-2.06-.94-.94-2.06-.94 2.06-2.06.94z\"/><path d=\"M17.41 7.96l-1.37-1.37c-.4-.4-.92-.59-1.43-.59-.52 0-1.04.2-1.43.59L10.3 9.45l-7.72 7.72c-.78.78-.78 2.05 0 2.83L4 21.41c.39.39.9.59 1.41.59.51 0 1.02-.2 1.41-.59l7.78-7.78 2.81-2.81c.8-.78.8-2.07 0-2.86zM5.41 20L4 18.59l7.72-7.72 1.47 1.35L5.41 20z\"/>\n",
              "  </svg>\n",
              "      </button>\n",
              "      \n",
              "  <style>\n",
              "    .colab-df-container {\n",
              "      display:flex;\n",
              "      flex-wrap:wrap;\n",
              "      gap: 12px;\n",
              "    }\n",
              "\n",
              "    .colab-df-convert {\n",
              "      background-color: #E8F0FE;\n",
              "      border: none;\n",
              "      border-radius: 50%;\n",
              "      cursor: pointer;\n",
              "      display: none;\n",
              "      fill: #1967D2;\n",
              "      height: 32px;\n",
              "      padding: 0 0 0 0;\n",
              "      width: 32px;\n",
              "    }\n",
              "\n",
              "    .colab-df-convert:hover {\n",
              "      background-color: #E2EBFA;\n",
              "      box-shadow: 0px 1px 2px rgba(60, 64, 67, 0.3), 0px 1px 3px 1px rgba(60, 64, 67, 0.15);\n",
              "      fill: #174EA6;\n",
              "    }\n",
              "\n",
              "    [theme=dark] .colab-df-convert {\n",
              "      background-color: #3B4455;\n",
              "      fill: #D2E3FC;\n",
              "    }\n",
              "\n",
              "    [theme=dark] .colab-df-convert:hover {\n",
              "      background-color: #434B5C;\n",
              "      box-shadow: 0px 1px 3px 1px rgba(0, 0, 0, 0.15);\n",
              "      filter: drop-shadow(0px 1px 2px rgba(0, 0, 0, 0.3));\n",
              "      fill: #FFFFFF;\n",
              "    }\n",
              "  </style>\n",
              "\n",
              "      <script>\n",
              "        const buttonEl =\n",
              "          document.querySelector('#df-1d75b1fa-c43b-4d61-a05c-281d860ccef3 button.colab-df-convert');\n",
              "        buttonEl.style.display =\n",
              "          google.colab.kernel.accessAllowed ? 'block' : 'none';\n",
              "\n",
              "        async function convertToInteractive(key) {\n",
              "          const element = document.querySelector('#df-1d75b1fa-c43b-4d61-a05c-281d860ccef3');\n",
              "          const dataTable =\n",
              "            await google.colab.kernel.invokeFunction('convertToInteractive',\n",
              "                                                     [key], {});\n",
              "          if (!dataTable) return;\n",
              "\n",
              "          const docLinkHtml = 'Like what you see? Visit the ' +\n",
              "            '<a target=\"_blank\" href=https://colab.research.google.com/notebooks/data_table.ipynb>data table notebook</a>'\n",
              "            + ' to learn more about interactive tables.';\n",
              "          element.innerHTML = '';\n",
              "          dataTable['output_type'] = 'display_data';\n",
              "          await google.colab.output.renderOutput(dataTable, element);\n",
              "          const docLink = document.createElement('div');\n",
              "          docLink.innerHTML = docLinkHtml;\n",
              "          element.appendChild(docLink);\n",
              "        }\n",
              "      </script>\n",
              "    </div>\n",
              "  </div>\n",
              "  "
            ]
          },
          "metadata": {},
          "execution_count": 23
        }
      ]
    }
  ]
}